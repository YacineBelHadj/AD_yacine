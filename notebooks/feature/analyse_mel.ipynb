{
 "cells": [
  {
   "cell_type": "markdown",
   "metadata": {},
   "source": [
    "Let's First load the PSDs"
   ]
  },
  {
   "cell_type": "code",
   "execution_count": 1,
   "metadata": {},
   "outputs": [],
   "source": [
    "%load_ext autoreload\n",
    "%autoreload 2 "
   ]
  },
  {
   "cell_type": "code",
   "execution_count": 8,
   "metadata": {},
   "outputs": [
    {
     "ename": "FileNotFoundError",
     "evalue": "[Errno 2] No such file or directory: '/data/processed/PSD/PSDs.npy'",
     "output_type": "error",
     "traceback": [
      "\u001b[0;31m---------------------------------------------------------------------------\u001b[0m",
      "\u001b[0;31mFileNotFoundError\u001b[0m                         Traceback (most recent call last)",
      "Cell \u001b[0;32mIn [8], line 4\u001b[0m\n\u001b[1;32m      2\u001b[0m \u001b[39mfrom\u001b[39;00m \u001b[39mdatetime\u001b[39;00m \u001b[39mimport\u001b[39;00m datetime, timedelta\n\u001b[1;32m      3\u001b[0m \u001b[39mimport\u001b[39;00m \u001b[39mnumpy\u001b[39;00m \u001b[39mas\u001b[39;00m \u001b[39mnp\u001b[39;00m\n\u001b[0;32m----> 4\u001b[0m get_processed_PSD()\n",
      "File \u001b[0;32m~/Documents/PhD/LocalProject/AD_Vibration/AD_vibration/data_loader/data_loader.py:111\u001b[0m, in \u001b[0;36mget_processed_PSD\u001b[0;34m()\u001b[0m\n\u001b[1;32m    109\u001b[0m \u001b[39mdef\u001b[39;00m \u001b[39mget_processed_PSD\u001b[39m():\n\u001b[1;32m    110\u001b[0m     data_root_PSD \u001b[39m=\u001b[39m Path(get_config()[\u001b[39m'\u001b[39m\u001b[39mPATH\u001b[39m\u001b[39m'\u001b[39m][\u001b[39m'\u001b[39m\u001b[39mdata_root_processed_PSD\u001b[39m\u001b[39m'\u001b[39m])\n\u001b[0;32m--> 111\u001b[0m     psds\u001b[39m=\u001b[39mnp\u001b[39m.\u001b[39;49mload(data_root_PSD \u001b[39m/\u001b[39;49m \u001b[39m'\u001b[39;49m\u001b[39mPSDs.npy\u001b[39;49m\u001b[39m'\u001b[39;49m)\n\u001b[1;32m    112\u001b[0m     datetimes\u001b[39m=\u001b[39mpd\u001b[39m.\u001b[39mread_csv(data_root_PSD \u001b[39m/\u001b[39m \u001b[39m'\u001b[39m\u001b[39mdatetimes.csv\u001b[39m\u001b[39m'\u001b[39m)[\u001b[39m'\u001b[39m\u001b[39m0\u001b[39m\u001b[39m'\u001b[39m]\u001b[39m.\u001b[39mvalues\n\u001b[1;32m    113\u001b[0m     \u001b[39mreturn\u001b[39;00m psds, datetimes\n",
      "File \u001b[0;32m~/anaconda3/envs/AD_Vibration_env/lib/python3.10/site-packages/numpy/lib/npyio.py:390\u001b[0m, in \u001b[0;36mload\u001b[0;34m(file, mmap_mode, allow_pickle, fix_imports, encoding)\u001b[0m\n\u001b[1;32m    388\u001b[0m     own_fid \u001b[39m=\u001b[39m \u001b[39mFalse\u001b[39;00m\n\u001b[1;32m    389\u001b[0m \u001b[39melse\u001b[39;00m:\n\u001b[0;32m--> 390\u001b[0m     fid \u001b[39m=\u001b[39m stack\u001b[39m.\u001b[39menter_context(\u001b[39mopen\u001b[39;49m(os_fspath(file), \u001b[39m\"\u001b[39;49m\u001b[39mrb\u001b[39;49m\u001b[39m\"\u001b[39;49m))\n\u001b[1;32m    391\u001b[0m     own_fid \u001b[39m=\u001b[39m \u001b[39mTrue\u001b[39;00m\n\u001b[1;32m    393\u001b[0m \u001b[39m# Code to distinguish from NumPy binary files and pickles.\u001b[39;00m\n",
      "\u001b[0;31mFileNotFoundError\u001b[0m: [Errno 2] No such file or directory: '/data/processed/PSD/PSDs.npy'"
     ]
    }
   ],
   "source": [
    "from AD_vibration.data_loader.data_loader import DataLoader, Sensor, get_processed_PSD\n",
    "from datetime import datetime, timedelta\n",
    "import numpy as np\n",
    "get_processed_PSD()"
   ]
  },
  {
   "cell_type": "code",
   "execution_count": null,
   "metadata": {},
   "outputs": [],
   "source": []
  }
 ],
 "metadata": {
  "kernelspec": {
   "display_name": "Python 3.10.8 ('AD_Vibration_env')",
   "language": "python",
   "name": "python3"
  },
  "language_info": {
   "codemirror_mode": {
    "name": "ipython",
    "version": 3
   },
   "file_extension": ".py",
   "mimetype": "text/x-python",
   "name": "python",
   "nbconvert_exporter": "python",
   "pygments_lexer": "ipython3",
   "version": "3.10.8"
  },
  "orig_nbformat": 4,
  "vscode": {
   "interpreter": {
    "hash": "c782eb1f9e32b359790627a5812bf3122fdc3ad39dde7efa1da6026549185b03"
   }
  }
 },
 "nbformat": 4,
 "nbformat_minor": 2
}
